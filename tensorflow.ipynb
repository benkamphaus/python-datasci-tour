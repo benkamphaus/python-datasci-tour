{
 "cells": [
  {
   "cell_type": "markdown",
   "metadata": {},
   "source": [
    "# Basics of TensorFlow\n",
    "\n",
    "This tutorial starts out with very basic tensorflow examples and slowly works up."
   ]
  },
  {
   "cell_type": "code",
   "execution_count": 3,
   "metadata": {
    "collapsed": true
   },
   "outputs": [],
   "source": [
    "import tensorflow as tf"
   ]
  },
  {
   "cell_type": "markdown",
   "metadata": {},
   "source": [
    "## Starting Simple\n",
    "\n",
    "Tensorflow constants and variables define a graph with symbolic expressions."
   ]
  },
  {
   "cell_type": "code",
   "execution_count": 4,
   "metadata": {
    "collapsed": false
   },
   "outputs": [
    {
     "name": "stdout",
     "output_type": "stream",
     "text": [
      "15\n"
     ]
    }
   ],
   "source": [
    "x = tf.constant(10)\n",
    "y = tf.constant(5)\n",
    "\n",
    "with tf.Session() as sess:\n",
    "    result = sess.run(x + y)\n",
    "    print(result)"
   ]
  },
  {
   "cell_type": "markdown",
   "metadata": {},
   "source": [
    "If you look at results without being in the context of a session, you'll see\n",
    "that expressions like `add`, `mul`, `sub`, `matmul`, etc. haven't been computed\n",
    "yet."
   ]
  },
  {
   "cell_type": "code",
   "execution_count": 5,
   "metadata": {
    "collapsed": false
   },
   "outputs": [
    {
     "name": "stdout",
     "output_type": "stream",
     "text": [
      "Tensor(\"Add:0\", shape=(), dtype=int32)\n"
     ]
    }
   ],
   "source": [
    "x = tf.constant(10)\n",
    "y = tf.constant(5)\n",
    "z = tf.add(x, y)\n",
    "\n",
    "print(z)"
   ]
  },
  {
   "cell_type": "markdown",
   "metadata": {},
   "source": [
    "But if you invoke an operation using run on a session object, it will execute\n",
    "all steps necessary to compute that value."
   ]
  },
  {
   "cell_type": "code",
   "execution_count": 6,
   "metadata": {
    "collapsed": false
   },
   "outputs": [
    {
     "name": "stdout",
     "output_type": "stream",
     "text": [
      "15\n"
     ]
    }
   ],
   "source": [
    "with tf.Session() as sess:\n",
    "    result = sess.run(z)\n",
    "    print(result)"
   ]
  },
  {
   "cell_type": "markdown",
   "metadata": {},
   "source": [
    "## Using Placeholders\n",
    "\n",
    "Running constant operations isn't particularly exciting. But TensorFlow uses 'placeholder' variables\n",
    "that we can use to feed in values as inputs to the computational graph."
   ]
  },
  {
   "cell_type": "code",
   "execution_count": 7,
   "metadata": {
    "collapsed": false
   },
   "outputs": [
    {
     "name": "stdout",
     "output_type": "stream",
     "text": [
      "11\n"
     ]
    }
   ],
   "source": [
    "x = tf.placeholder(tf.int32)\n",
    "y = tf.placeholder(tf.int32)\n",
    "z = tf.add(x, y)\n",
    "\n",
    "with tf.Session() as sess:\n",
    "    result = sess.run(z, feed_dict={x: 3, y: 8})\n",
    "    print(result)"
   ]
  },
  {
   "cell_type": "markdown",
   "metadata": {},
   "source": [
    "We can feed in different values each time we execute the graph."
   ]
  },
  {
   "cell_type": "code",
   "execution_count": 8,
   "metadata": {
    "collapsed": false
   },
   "outputs": [
    {
     "name": "stdout",
     "output_type": "stream",
     "text": [
      "16\n"
     ]
    }
   ],
   "source": [
    "with tf.Session() as sess:\n",
    "    result = sess.run(z, feed_dict={x: 4, y: 12})\n",
    "    print(result)"
   ]
  },
  {
   "cell_type": "markdown",
   "metadata": {},
   "source": [
    "Moreover, we can use Python's control structures to execute a graph multiple times and feed\n",
    "different values each time."
   ]
  },
  {
   "cell_type": "code",
   "execution_count": 9,
   "metadata": {
    "collapsed": false
   },
   "outputs": [
    {
     "name": "stdout",
     "output_type": "stream",
     "text": [
      "5\n",
      "6\n",
      "7\n",
      "6\n",
      "7\n",
      "8\n",
      "7\n",
      "8\n",
      "9\n",
      "8\n",
      "9\n",
      "10\n"
     ]
    }
   ],
   "source": [
    "from itertools import product\n",
    "\n",
    "with tf.Session() as sess:\n",
    "    for a, b in product(range(4), range(5, 8)):\n",
    "        result = sess.run(z, feed_dict={x: a, y: b})\n",
    "        print(result)"
   ]
  },
  {
   "cell_type": "markdown",
   "metadata": {},
   "source": [
    "## Matrix Multiplication"
   ]
  },
  {
   "cell_type": "code",
   "execution_count": 10,
   "metadata": {
    "collapsed": true
   },
   "outputs": [],
   "source": [
    "import numpy as np"
   ]
  },
  {
   "cell_type": "code",
   "execution_count": 11,
   "metadata": {
    "collapsed": true
   },
   "outputs": [],
   "source": [
    "x = tf.placeholder(tf.float32, shape=(2, 2))\n",
    "y = tf.placeholder(tf.float32, shape=(2, 2))\n",
    "z = tf.matmul(x, y)"
   ]
  },
  {
   "cell_type": "markdown",
   "metadata": {},
   "source": [
    "_Note_: feed_dict values have to be variables because mutating them must be supported."
   ]
  },
  {
   "cell_type": "code",
   "execution_count": 12,
   "metadata": {
    "collapsed": false
   },
   "outputs": [
    {
     "name": "stdout",
     "output_type": "stream",
     "text": [
      "[[  7.  10.]\n",
      " [ 15.  22.]]\n"
     ]
    }
   ],
   "source": [
    "with tf.Session() as sess:\n",
    "    a = np.array([[1, 2],\n",
    "                  [3, 4]], dtype=np.float32)\n",
    "    b = np.array([[1, 2],\n",
    "                  [3, 4]], dtype=np.float32)  \n",
    "    result = sess.run(z, feed_dict={y: a, x: b})\n",
    "    print(result)"
   ]
  },
  {
   "cell_type": "markdown",
   "metadata": {},
   "source": [
    "## A Simple Learning Example\n",
    "\n",
    "We'll just train the network to learn how to scale and add!"
   ]
  },
  {
   "cell_type": "code",
   "execution_count": 54,
   "metadata": {
    "collapsed": true
   },
   "outputs": [],
   "source": [
    "f = lambda x: x * 0.5 + 0.5"
   ]
  },
  {
   "cell_type": "code",
   "execution_count": 55,
   "metadata": {
    "collapsed": false
   },
   "outputs": [],
   "source": [
    "def repeater(fn):\n",
    "    while True:\n",
    "        val = np.random.rand()\n",
    "        yield fn(val), val "
   ]
  },
  {
   "cell_type": "code",
   "execution_count": 56,
   "metadata": {
    "collapsed": false
   },
   "outputs": [
    {
     "data": {
      "text/plain": [
       "(0.9348075086815784, 0.8696150173631567)"
      ]
     },
     "execution_count": 56,
     "metadata": {},
     "output_type": "execute_result"
    }
   ],
   "source": [
    "scale_add = repeater(f)\n",
    "next(scale_add)"
   ]
  },
  {
   "cell_type": "markdown",
   "metadata": {},
   "source": [
    "These are some global settings we can use to configure how we run and optimize our network."
   ]
  },
  {
   "cell_type": "code",
   "execution_count": 57,
   "metadata": {
    "collapsed": true
   },
   "outputs": [],
   "source": [
    "training_epochs = 50000\n",
    "learning_rate = 1e-1"
   ]
  },
  {
   "cell_type": "markdown",
   "metadata": {},
   "source": [
    "This is a basic fitting function we'll use."
   ]
  },
  {
   "cell_type": "code",
   "execution_count": 58,
   "metadata": {
    "collapsed": false
   },
   "outputs": [],
   "source": [
    "X = tf.placeholder(tf.float32)\n",
    "y = tf.placeholder(tf.float32)\n",
    "\n",
    "W = tf.Variable(np.random.randn(), name=\"weight\")\n",
    "b = tf.Variable(np.random.randn(), name=\"bias\")\n",
    "\n",
    "pred = tf.add(tf.mul(X, W), b)"
   ]
  },
  {
   "cell_type": "markdown",
   "metadata": {},
   "source": [
    "We have to have a cost function and an optimizer that tries to change the weights and biases to\n",
    "change the cost function in the way we define (e.g. reduce it)."
   ]
  },
  {
   "cell_type": "code",
   "execution_count": 59,
   "metadata": {
    "collapsed": false
   },
   "outputs": [],
   "source": [
    "cost = tf.reduce_sum(tf.pow(pred-y, 2))/(2*batch_size)\n",
    "optimizer = tf.train.GradientDescentOptimizer(learning_rate).minimize(cost)\n",
    "init = tf.initialize_all_variables()"
   ]
  },
  {
   "cell_type": "markdown",
   "metadata": {},
   "source": [
    "Then we run a loop that feeds in values to train the function."
   ]
  },
  {
   "cell_type": "code",
   "execution_count": 60,
   "metadata": {
    "collapsed": false
   },
   "outputs": [
    {
     "name": "stdout",
     "output_type": "stream",
     "text": [
      "Epoch: 0001 Cost: 0.068217173 Weight: -1.19101 Bias: -2.25781\n",
      "Epoch: 1001 Cost: 0.003659250 Weight: 0.213687 Bias: -0.42398\n",
      "Epoch: 2001 Cost: 0.000649208 Weight: 0.530257 Bias: -0.0469852\n",
      "Epoch: 3001 Cost: 0.000006252 Weight: 0.614598 Bias: 0.0256352\n",
      "Epoch: 4001 Cost: 0.000034951 Weight: 0.645897 Bias: 0.0281774\n",
      "Epoch: 5001 Cost: 0.000115528 Weight: 0.662968 Bias: 0.0133501\n",
      "Epoch: 6001 Cost: 0.000238740 Weight: 0.682068 Bias: 0.00156094\n",
      "Epoch: 7001 Cost: 0.000061830 Weight: 0.695405 Bias: -0.0176114\n",
      "Epoch: 8001 Cost: 0.000014211 Weight: 0.718151 Bias: -0.0231903\n",
      "Epoch: 9001 Cost: 0.000071009 Weight: 0.73523 Bias: -0.0359473\n",
      "Epoch: 10001 Cost: 0.000479104 Weight: 0.747758 Bias: -0.055228\n",
      "Epoch: 11001 Cost: 0.000058505 Weight: 0.770236 Bias: -0.0585728\n",
      "Epoch: 12001 Cost: 0.000153796 Weight: 0.779543 Bias: -0.0797376\n",
      "Epoch: 13001 Cost: 0.000058967 Weight: 0.795258 Bias: -0.093378\n",
      "Epoch: 14001 Cost: 0.000106902 Weight: 0.818303 Bias: -0.0962058\n",
      "Epoch: 15001 Cost: 0.000325009 Weight: 0.831414 Bias: -0.111852\n",
      "Epoch: 16001 Cost: 0.000013860 Weight: 0.844736 Bias: -0.124751\n",
      "Epoch: 17001 Cost: 0.000009001 Weight: 0.862127 Bias: -0.134887\n",
      "Epoch: 18001 Cost: 0.000074088 Weight: 0.87959 Bias: -0.143058\n",
      "Epoch: 19001 Cost: 0.000135810 Weight: 0.893179 Bias: -0.155402\n",
      "Epoch: 20001 Cost: 0.000257712 Weight: 0.904436 Bias: -0.170085\n",
      "Epoch: 21001 Cost: 0.000022829 Weight: 0.92159 Bias: -0.177764\n",
      "Epoch: 22001 Cost: 0.000026900 Weight: 0.939681 Bias: -0.184678\n",
      "Epoch: 23001 Cost: 0.000094409 Weight: 0.951488 Bias: -0.198252\n",
      "Epoch: 24001 Cost: 0.000288737 Weight: 0.962611 Bias: -0.211984\n",
      "Epoch: 25001 Cost: 0.000147900 Weight: 0.975073 Bias: -0.225268\n",
      "Epoch: 26001 Cost: 0.000212345 Weight: 0.990312 Bias: -0.231924\n",
      "Epoch: 27001 Cost: 0.000006231 Weight: 1.00131 Bias: -0.245794\n",
      "Epoch: 28001 Cost: 0.000138357 Weight: 1.01584 Bias: -0.253511\n",
      "Epoch: 29001 Cost: 0.000230726 Weight: 1.02806 Bias: -0.265422\n",
      "Epoch: 30001 Cost: 0.000054475 Weight: 1.03784 Bias: -0.277679\n",
      "Epoch: 31001 Cost: 0.000059777 Weight: 1.05188 Bias: -0.284745\n",
      "Epoch: 32001 Cost: 0.000135460 Weight: 1.06751 Bias: -0.289503\n",
      "Epoch: 33001 Cost: 0.000170786 Weight: 1.07874 Bias: -0.299025\n",
      "Epoch: 34001 Cost: 0.000039047 Weight: 1.09079 Bias: -0.309278\n",
      "Epoch: 35001 Cost: 0.000169835 Weight: 1.10289 Bias: -0.31877\n",
      "Epoch: 36001 Cost: 0.000107054 Weight: 1.11322 Bias: -0.330027\n",
      "Epoch: 37001 Cost: 0.000164730 Weight: 1.12627 Bias: -0.338038\n",
      "Epoch: 38001 Cost: 0.000015159 Weight: 1.13947 Bias: -0.345886\n",
      "Epoch: 39001 Cost: 0.000063522 Weight: 1.15138 Bias: -0.3544\n",
      "Epoch: 40001 Cost: 0.000086262 Weight: 1.16211 Bias: -0.364172\n",
      "Epoch: 41001 Cost: 0.000191514 Weight: 1.1726 Bias: -0.373456\n",
      "Epoch: 42001 Cost: 0.000005521 Weight: 1.1859 Bias: -0.379048\n",
      "Epoch: 43001 Cost: 0.000060937 Weight: 1.19369 Bias: -0.391768\n",
      "Epoch: 44001 Cost: 0.000068783 Weight: 1.20569 Bias: -0.397455\n",
      "Epoch: 45001 Cost: 0.000146221 Weight: 1.21576 Bias: -0.4065\n",
      "Epoch: 46001 Cost: 0.000003188 Weight: 1.22606 Bias: -0.413685\n",
      "Epoch: 47001 Cost: 0.000057421 Weight: 1.23677 Bias: -0.42152\n",
      "Epoch: 48001 Cost: 0.000173024 Weight: 1.24425 Bias: -0.432113\n",
      "Epoch: 49001 Cost: 0.000092011 Weight: 1.25571 Bias: -0.436943\n",
      "Predicted:  0.194431\n",
      "Truth:  0.75\n"
     ]
    }
   ],
   "source": [
    "with tf.Session() as sess:\n",
    "    sess.run(init)\n",
    "    \n",
    "    for epoch in range(training_epochs):\n",
    "        train_X, train_y = next(scale_add)\n",
    "      \n",
    "        sess.run(optimizer, feed_dict={X: train_X, y: train_y})\n",
    "        current_cost = sess.run(cost, feed_dict={X: train_X, y: train_y})\n",
    "\n",
    "        if not (epoch % 1000):\n",
    "            print(\"Epoch:\",  '%04d' % (epoch+1),\n",
    "                  \"Cost:\",   \"{:.9f}\".format(current_cost),\n",
    "                  \"Weight:\", sess.run(W),\n",
    "                  \"Bias:\",   sess.run(b))\n",
    "        \n",
    "    test_val = 0.5\n",
    "    print(\"Predicted: \", sess.run(pred, feed_dict={X: test_val}))\n",
    "    print(\"Truth: \", f(test_val))"
   ]
  },
  {
   "cell_type": "code",
   "execution_count": null,
   "metadata": {
    "collapsed": true
   },
   "outputs": [],
   "source": []
  }
 ],
 "metadata": {
  "kernelspec": {
   "display_name": "Python 3",
   "language": "python",
   "name": "python3"
  }
 },
 "nbformat": 4,
 "nbformat_minor": 0
}
