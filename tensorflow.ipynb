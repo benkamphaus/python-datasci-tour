{
 "cells": [
  {
   "cell_type": "markdown",
   "metadata": {},
   "source": [
    "# Basics of TensorFlow\n",
    "\n",
    "This tutorial starts out with very basic tensorflow examples and slowly works up."
   ]
  },
  {
   "cell_type": "code",
   "execution_count": 3,
   "metadata": {
    "collapsed": true
   },
   "outputs": [],
   "source": [
    "import tensorflow as tf"
   ]
  },
  {
   "cell_type": "markdown",
   "metadata": {},
   "source": [
    "## Starting Simple\n",
    "\n",
    "Tensorflow constants and variables define a graph with symbolic expressions."
   ]
  },
  {
   "cell_type": "code",
   "execution_count": 4,
   "metadata": {
    "collapsed": false
   },
   "outputs": [
    {
     "name": "stdout",
     "output_type": "stream",
     "text": [
      "15\n"
     ]
    }
   ],
   "source": [
    "x = tf.constant(10)\n",
    "y = tf.constant(5)\n",
    "\n",
    "with tf.Session() as sess:\n",
    "    result = sess.run(x + y)\n",
    "    print(result)"
   ]
  },
  {
   "cell_type": "markdown",
   "metadata": {},
   "source": [
    "If you look at results without being in the context of a session, you'll see\n",
    "that expressions like `add`, `mul`, `sub`, `matmul`, etc. haven't been computed\n",
    "yet."
   ]
  },
  {
   "cell_type": "code",
   "execution_count": 5,
   "metadata": {
    "collapsed": false
   },
   "outputs": [
    {
     "name": "stdout",
     "output_type": "stream",
     "text": [
      "Tensor(\"Add:0\", shape=(), dtype=int32)\n"
     ]
    }
   ],
   "source": [
    "x = tf.constant(10)\n",
    "y = tf.constant(5)\n",
    "z = tf.add(x, y)\n",
    "\n",
    "print(z)"
   ]
  },
  {
   "cell_type": "markdown",
   "metadata": {},
   "source": [
    "But if you invoke an operation using run on a session object, it will execute\n",
    "all steps necessary to compute that value."
   ]
  },
  {
   "cell_type": "code",
   "execution_count": 6,
   "metadata": {
    "collapsed": false
   },
   "outputs": [
    {
     "name": "stdout",
     "output_type": "stream",
     "text": [
      "15\n"
     ]
    }
   ],
   "source": [
    "with tf.Session() as sess:\n",
    "    result = sess.run(z)\n",
    "    print(result)"
   ]
  },
  {
   "cell_type": "markdown",
   "metadata": {},
   "source": [
    "## Using Placeholders\n",
    "\n",
    "Running constant operations isn't particularly exciting. But TensorFlow uses `placeholder` variables\n",
    "that we can use to feed in values as inputs to the computational graph."
   ]
  },
  {
   "cell_type": "code",
   "execution_count": 7,
   "metadata": {
    "collapsed": false
   },
   "outputs": [
    {
     "name": "stdout",
     "output_type": "stream",
     "text": [
      "11\n"
     ]
    }
   ],
   "source": [
    "x = tf.placeholder(tf.int32)\n",
    "y = tf.placeholder(tf.int32)\n",
    "z = tf.add(x, y)\n",
    "\n",
    "with tf.Session() as sess:\n",
    "    result = sess.run(z, feed_dict={x: 3, y: 8})\n",
    "    print(result)"
   ]
  },
  {
   "cell_type": "markdown",
   "metadata": {},
   "source": [
    "We can feed in different values each time we execute the graph."
   ]
  },
  {
   "cell_type": "code",
   "execution_count": 8,
   "metadata": {
    "collapsed": false
   },
   "outputs": [
    {
     "name": "stdout",
     "output_type": "stream",
     "text": [
      "16\n"
     ]
    }
   ],
   "source": [
    "with tf.Session() as sess:\n",
    "    result = sess.run(z, feed_dict={x: 4, y: 12})\n",
    "    print(result)"
   ]
  },
  {
   "cell_type": "markdown",
   "metadata": {},
   "source": [
    "Moreover, we can use Python's control structures to execute a graph multiple times and feed\n",
    "different values each time."
   ]
  },
  {
   "cell_type": "code",
   "execution_count": 9,
   "metadata": {
    "collapsed": false
   },
   "outputs": [
    {
     "name": "stdout",
     "output_type": "stream",
     "text": [
      "5\n",
      "6\n",
      "7\n",
      "6\n",
      "7\n",
      "8\n",
      "7\n",
      "8\n",
      "9\n",
      "8\n",
      "9\n",
      "10\n"
     ]
    }
   ],
   "source": [
    "from itertools import product\n",
    "\n",
    "with tf.Session() as sess:\n",
    "    for a, b in product(range(4), range(5, 8)):\n",
    "        result = sess.run(z, feed_dict={x: a, y: b})\n",
    "        print(result)"
   ]
  },
  {
   "cell_type": "markdown",
   "metadata": {},
   "source": [
    "### Matrix Multiplication\n",
    "\n",
    "Of course, TensorFlow has support for more than basic scalar operations (as you might guess from its name)."
   ]
  },
  {
   "cell_type": "code",
   "execution_count": 10,
   "metadata": {
    "collapsed": true
   },
   "outputs": [],
   "source": [
    "import numpy as np"
   ]
  },
  {
   "cell_type": "code",
   "execution_count": 11,
   "metadata": {
    "collapsed": true
   },
   "outputs": [],
   "source": [
    "x = tf.placeholder(tf.float32, shape=(2, 2))\n",
    "y = tf.placeholder(tf.float32, shape=(2, 2))\n",
    "z = tf.matmul(x, y)"
   ]
  },
  {
   "cell_type": "markdown",
   "metadata": {},
   "source": [
    "_Note_: feed_dict values have to be variables because mutating them must be supported."
   ]
  },
  {
   "cell_type": "code",
   "execution_count": 12,
   "metadata": {
    "collapsed": false
   },
   "outputs": [
    {
     "name": "stdout",
     "output_type": "stream",
     "text": [
      "[[  7.  10.]\n",
      " [ 15.  22.]]\n"
     ]
    }
   ],
   "source": [
    "with tf.Session() as sess:\n",
    "    a = np.array([[1, 2],\n",
    "                  [3, 4]], dtype=np.float32)\n",
    "    b = np.array([[1, 2],\n",
    "                  [3, 4]], dtype=np.float32)  \n",
    "    result = sess.run(z, feed_dict={y: a, x: b})\n",
    "    print(result)"
   ]
  },
  {
   "cell_type": "markdown",
   "metadata": {},
   "source": [
    "## A Simple Learning Example\n",
    "\n",
    "We'll just train the network to learn how to scale and add!"
   ]
  },
  {
   "cell_type": "code",
   "execution_count": 68,
   "metadata": {
    "collapsed": true
   },
   "outputs": [],
   "source": [
    "f = lambda x: (x * 2) + 3"
   ]
  },
  {
   "cell_type": "code",
   "execution_count": 121,
   "metadata": {
    "collapsed": false
   },
   "outputs": [],
   "source": [
    "def batch_apply(fn, batch, scale=10):\n",
    "    while True:\n",
    "        val = np.random.rand(batch) * scale\n",
    "        yield val, fn(val)"
   ]
  },
  {
   "cell_type": "code",
   "execution_count": 122,
   "metadata": {
    "collapsed": false
   },
   "outputs": [
    {
     "data": {
      "text/plain": [
       "(array([ 9.42712483,  4.30674698,  5.88916466,  9.77930526,  9.70053852]),\n",
       " array([ 21.85424965,  11.61349397,  14.77832932,  22.55861053,  22.40107704]))"
      ]
     },
     "execution_count": 122,
     "metadata": {},
     "output_type": "execute_result"
    }
   ],
   "source": [
    "scale_add = batch_apply(f, 5)\n",
    "next(scale_add)"
   ]
  },
  {
   "cell_type": "markdown",
   "metadata": {},
   "source": [
    "### Model Hyperparameters\n",
    "\n",
    "These are some global settings we can use to configure how we run and optimize our network."
   ]
  },
  {
   "cell_type": "code",
   "execution_count": 133,
   "metadata": {
    "collapsed": true
   },
   "outputs": [],
   "source": [
    "training_epochs = 5001\n",
    "batch_size = 32"
   ]
  },
  {
   "cell_type": "markdown",
   "metadata": {},
   "source": [
    "This is a basic fitting function we'll use. Note that it follows the structure of our data generating\n",
    "function exactly! This is a good toy example, but most functions won't work this way.\n",
    "\n",
    "### Variable\n",
    "\n",
    "We're also introducing the use of the TensorFlow `Variable`. How does it differ from constants or placeholders?\n",
    "\n",
    "* Variables get updated by optimizers.\n",
    "  * More formally, variables represent the _parameters_ of the model.\n",
    "* Variables have to be initialized."
   ]
  },
  {
   "cell_type": "code",
   "execution_count": 134,
   "metadata": {
    "collapsed": false
   },
   "outputs": [],
   "source": [
    "X = tf.placeholder(tf.float32, [batch_size])\n",
    "y = tf.placeholder(tf.float32, [batch_size])\n",
    "\n",
    "W = tf.Variable(1.0, [batch_size], name=\"weight\")\n",
    "b = tf.Variable(1.0, [batch_size], name=\"bias\")\n",
    "\n",
    "pred = tf.add(tf.mul(X, W), b)"
   ]
  },
  {
   "cell_type": "markdown",
   "metadata": {},
   "source": [
    "We have to have a cost function and an optimizer that tries to change the weights and biases to\n",
    "change the output of the cost function in the way we define (e.g. reduce it)."
   ]
  },
  {
   "cell_type": "code",
   "execution_count": 135,
   "metadata": {
    "collapsed": false
   },
   "outputs": [],
   "source": [
    "cost = tf.reduce_sum(tf.abs(tf.sub(pred, y)))\n",
    "optimizer = tf.train.AdamOptimizer().minimize(cost)\n",
    "init = tf.initialize_all_variables()"
   ]
  },
  {
   "cell_type": "markdown",
   "metadata": {},
   "source": [
    "### Optimizing the model\n",
    "\n",
    "To optimize the model, we run a loop that feeds in values to train the function.\n",
    "\n",
    "* Note that `sess.run` is invoked with the optimizer as the first argument.\n",
    "* Note also we're supply training data and labels in batches during each run."
   ]
  },
  {
   "cell_type": "code",
   "execution_count": 137,
   "metadata": {
    "collapsed": false
   },
   "outputs": [
    {
     "name": "stdout",
     "output_type": "stream",
     "text": [
      "Epoch: 0001 Cost: 229.017883301 Weight: 1.001 Bias: 1.001\n",
      "Epoch: 1001 Cost: 32.076526642 Weight: 1.99936 Bias: 2.00105\n",
      "Epoch: 2001 Cost: 5.378720284 Weight: 2.06642 Bias: 2.54869\n",
      "Epoch: 3001 Cost: 0.002993822 Weight: 2.00003 Bias: 2.99992\n",
      "Epoch: 4001 Cost: 0.035828114 Weight: 1.99984 Bias: 2.99962\n",
      "Epoch: 5001 Cost: 0.003920317 Weight: 1.99999 Bias: 3.00017\n"
     ]
    }
   ],
   "source": [
    "with tf.Session() as sess:\n",
    "    sess.run(init)\n",
    "    \n",
    "    for epoch in range(training_epochs):\n",
    "        train_X, train_y = next(batch_apply(f, batch_size))\n",
    "        \n",
    "        sess.run(optimizer, feed_dict={X: train_X, y: train_y})\n",
    "        current_cost = sess.run(cost, feed_dict={X: train_X, y: train_y})\n",
    "\n",
    "        if not (epoch % 1000):\n",
    "            print(\"Epoch:\",  '%04d' % (epoch+1),\n",
    "                  \"Cost:\",   \"{:.9f}\".format(current_cost),\n",
    "                  \"Weight:\", sess.run(W),\n",
    "                  \"Bias:\",   sess.run(b))"
   ]
  },
  {
   "cell_type": "markdown",
   "metadata": {},
   "source": [
    "### Learn to invert it!\n",
    "\n",
    "Just by inverting the train and label values, we can teach the graph/model to learn\n",
    "the inverse of our previous function."
   ]
  },
  {
   "cell_type": "code",
   "execution_count": 139,
   "metadata": {
    "collapsed": false
   },
   "outputs": [
    {
     "name": "stdout",
     "output_type": "stream",
     "text": [
      "Epoch: 0001 Cost: 300.109436035 Weight: 0.999 Bias: 0.999\n",
      "Epoch: 1001 Cost: 15.240823746 Weight: 0.395135 Bias: 0.236151\n",
      "Epoch: 2001 Cost: 15.201331139 Weight: 0.427919 Bias: -0.32019\n",
      "Epoch: 3001 Cost: 4.876611233 Weight: 0.472004 Bias: -1.05191\n",
      "Epoch: 4001 Cost: 0.105165169 Weight: 0.49975 Bias: -1.50005\n",
      "Epoch: 5001 Cost: 0.001037925 Weight: 0.500007 Bias: -1.50008\n"
     ]
    }
   ],
   "source": [
    "with tf.Session() as sess:\n",
    "    sess.run(init)\n",
    "    \n",
    "    for epoch in range(training_epochs):\n",
    "        ## Reversed order of _y and _X here is the only change!\n",
    "        train_y, train_X = next(batch_apply(f, batch_size))\n",
    "        \n",
    "        sess.run(optimizer, feed_dict={X: train_X, y: train_y})\n",
    "        current_cost = sess.run(cost, feed_dict={X: train_X, y: train_y})\n",
    "\n",
    "        if not (epoch % 1000):\n",
    "            print(\"Epoch:\",  '%04d' % (epoch+1),\n",
    "                  \"Cost:\",   \"{:.9f}\".format(current_cost),\n",
    "                  \"Weight:\", sess.run(W),\n",
    "                  \"Bias:\",   sess.run(b))"
   ]
  }
 ],
 "metadata": {
  "kernelspec": {
   "display_name": "Python 3",
   "language": "python",
   "name": "python3"
  }
 },
 "nbformat": 4,
 "nbformat_minor": 0
}
